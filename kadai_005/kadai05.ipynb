{
  "nbformat": 4,
  "nbformat_minor": 0,
  "metadata": {
    "colab": {
      "provenance": []
    },
    "kernelspec": {
      "name": "python3",
      "display_name": "Python 3"
    },
    "language_info": {
      "name": "python"
    }
  },
  "cells": [
    {
      "cell_type": "code",
      "execution_count": 1,
      "metadata": {
        "colab": {
          "base_uri": "https://localhost:8080/"
        },
        "id": "Qd9omcPKvVCz",
        "outputId": "ea4109ea-cb81-436d-b4c4-b4522ee90c97"
      },
      "outputs": [
        {
          "output_type": "stream",
          "name": "stdout",
          "text": [
            "台形の面積は25.0㎠です\n"
          ]
        }
      ],
      "source": [
        "jyoutei = 4\n",
        "katei = 6\n",
        "takasa = 5\n",
        "menseki=(jyoutei+katei)*takasa/2\n",
        "print(f\"台形の面積は{menseki}㎠です\")\n"
      ]
    }
  ]
}